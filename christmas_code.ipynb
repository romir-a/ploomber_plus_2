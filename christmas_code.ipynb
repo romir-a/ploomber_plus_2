{
  "cells": [
    {
      "cell_type": "markdown",
      "id": "f25056fc-44dd-4baa-88ff-b2e879a9d2c4",
      "metadata": {},
      "source": [
        "# BEE 4750 Homework 5: Mixed Integer and Stochastic Programming\n",
        "\n",
        "**Name**: trent\n",
        "?\n",
        "\n",
        "**ID**:\n",
        "\n",
        "> **Due Date**\n",
        ">\n",
        "> Thursday, 12/05/24, 9:00pm\n",
        "\n",
        "## Overview"
      ]
    },
    {
      "cell_type": "markdown",
      "id": "bdc61f0a-d224-4e85-9d0f-dc78118e17b2",
      "metadata": {},
      "source": [
        "### Instructions\n",
        "\n",
        "-   In Problem 1, you will use mixed integer programming to solve a\n",
        "    waste load allocation problem."
      ]
    },
    {
      "cell_type": "markdown",
      "id": "f28855a0-60d2-442e-b8ef-1ceaee826af6",
      "metadata": {},
      "source": [
        "### Load Environment\n",
        "\n",
        "The following code loads the environment and makes sure all needed\n",
        "packages are installed. This should be at the start of most Julia\n",
        "scripts."
      ]
    },
    {
      "cell_type": "code",
      "execution_count": 1,
      "id": "2",
      "metadata": {},
      "outputs": [],
      "source": [
        "import Pkg\n",
        "Pkg.activate(@__DIR__)\n",
        "Pkg.instantiate()"
      ]
    },
    {
      "cell_type": "code",
      "execution_count": 1,
      "id": "4",
      "metadata": {},
      "outputs": [],
      "source": [
        "using JuMP\n",
        "using HiGHS\n",
        "using DataFrames\n",
        "using GraphRecipes\n",
        "using Plots\n",
        "using Measures\n",
        "using MarkdownTables"
      ]
    },
    {
      "cell_type": "markdown",
      "id": "7cd4181d-a987-4e3a-8dad-cfdef5fb6270",
      "metadata": {},
      "source": [
        "## Problems (Total: 30 Points)\n",
        "\n",
        "### Problem 1 (30 points)\n",
        "\n",
        "Three cities are developing a coordinated municipal solid waste (MSW)\n",
        "disposal plan. Three disposal alternatives are being considered: a\n",
        "landfill (LF), a materials recycling facility (MRF), and a\n",
        "waste-to-energy facility (WTE). The capacities of these facilities and\n",
        "the fees for operation and disposal are provided below.\n",
        "\n",
        "-   **LF**: Capacity 200 Mg, fixed cost \\$2000/day, tipping cost\n",
        "    \\$50/Mg;\n",
        "-   **MRF**: Capacity 350 Mg, fixed cost \\$1500/day, tipping cost\n",
        "    \\$7/Mg, recycling cost \\$40/Mg recycled;\n",
        "-   **WTE**: Capacity 210 Mg, fixed cost \\$2500/day, tipping cost\n",
        "    \\$60/Mg;\n",
        "\n",
        "The MRF recycling rate is 40%, and the ash fraction of non-recycled\n",
        "waste is 16% and of recycled waste is 14%. Transportation costs are\n",
        "\\$1.5/Mg-km, and the relative distances between the cities and\n",
        "facilities are provided in the table below.\n",
        "\n",
        "| **City/Facility** | **Landfill (km)** | **MRF (km)** | **WTE (km)** |\n",
        "|:-----------------:|:-----------------:|:------------:|:------------:|\n",
        "|         1         |         5         |      30      |      15      |\n",
        "|         2         |        15         |      25      |      10      |\n",
        "|         3         |        13         |      45      |      20      |\n",
        "|        LF         |        \\-         |      32      |      18      |\n",
        "|        MRF        |        32         |      \\-      |      15      |\n",
        "|        WTE        |        18         |      15      |      \\-      |\n",
        "\n",
        "The fixed costs associated with the disposal options are incurred only\n",
        "if the particular disposal option is implemented. The three cities\n",
        "produce 100, 90, and 120 Mg/day of solid waste, respectively, with the\n",
        "composition provided in the table below.\n",
        "\n",
        "**Reminder**: Use `round(x; digits=n)` to report values to the\n",
        "appropriate precision!\n",
        "\n",
        "**In this problem**:\n",
        "\n",
        "-   Formulate the waste load allocation problem and implement it in\n",
        "    `JuMP`.\n",
        "-   Draw a diagram showing the flows of waste between the cities and the\n",
        "    facilities. Which facilities (if any) will not be used? Does this\n",
        "    solution make sense?"
      ]
    },
    {
      "cell_type": "markdown",
      "id": "b6d659ee-115e-43c3-81d4-56c4aaf92fb7",
      "metadata": {},
      "source": [
        "## References\n",
        "\n",
        "List any external references consulted, including classmates."
      ]
    }
  ],
  "metadata": {
    "kernel_info": {
      "name": "julia"
    },
    "kernelspec": {
      "display_name": "Julia",
      "language": "julia",
      "name": "julia"
    },
    "language_info": {
      "codemirror_mode": "julia",
      "name": "julia",
      "version": "1.10.4"
    }
  },
  "nbformat": 4,
  "nbformat_minor": 5
}
