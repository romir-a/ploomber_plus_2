{
  "cells": [
    {
      "cell_type": "markdown",
      "id": "f25056fc-44dd-4baa-88ff-b2e879a9d2c4",
      "metadata": {},
      "source": [
        "# BEE 4750 FINAL PROJECT CODE\n",
        "\n",
        "**Name**: trent?\n",
        "\n",
        "Directions:\n",
        "\n",
        "top, carrot, git clone, select, clone from git hub, then choose the repo you want, then choose folder, then it will open automatically\n",
        "\n",
        "**ID**:\n",
        "\n",
        "> **Due Date**\n",
        ">\n",
        "> Thursday, 12/20/24, 9:00pm\n",
        "\n",
        "## Overview"
      ]
    },
    {
      "cell_type": "markdown",
      "id": "f28855a0-60d2-442e-b8ef-1ceaee826af6",
      "metadata": {},
      "source": [
        "### Load Environment\n",
        "\n",
        "The following code loads the environment and makes sure all needed\n",
        "packages are installed. This should be at the start of most Julia\n",
        "scripts."
      ]
    },
    {
      "cell_type": "code",
      "execution_count": 1,
      "id": "2",
      "metadata": {},
      "outputs": [],
      "source": [
        "import Pkg\n",
        "Pkg.activate(@__DIR__)\n",
        "Pkg.instantiate()"
      ]
    },
    {
      "cell_type": "code",
      "execution_count": 1,
      "id": "4",
      "metadata": {},
      "outputs": [],
      "source": [
        "using JuMP\n",
        "using HiGHS\n",
        "using DataFrames\n",
        "using GraphRecipes\n",
        "using Plots\n",
        "using Measures\n",
        "using MarkdownTables"
      ]
    },
    {
      "cell_type": "markdown",
      "id": "eda24e20",
      "metadata": {},
      "source": [
        "### Synthetic Christmas Tree Model"
      ]
    },
    {
      "cell_type": "code",
      "execution_count": 2,
      "id": "83b91768",
      "metadata": {},
      "outputs": [
        {
          "data": {
            "text/plain": [
              "22"
            ]
          },
          "metadata": {},
          "output_type": "display_data"
        }
      ],
      "source": [
        "raw = 4\n",
        "manf = 5\n",
        "trans = 6\n",
        "eol = 7\n",
        "\n",
        "synth_emm = raw + manf + trans + eol \n",
        "\n"
      ]
    },
    {
      "cell_type": "markdown",
      "id": "dd3a3f14",
      "metadata": {},
      "source": [
        "### Natural Christmas Tree Model"
      ]
    },
    {
      "cell_type": "code",
      "execution_count": 1,
      "id": "b8e5ab61",
      "metadata": {},
      "outputs": [
        {
          "data": {
            "text/plain": [
              "22"
            ]
          },
          "metadata": {},
          "output_type": "display_data"
        }
      ],
      "source": [
        "raw = 4\n",
        "seq = 3\n",
        "manf = 5\n",
        "trans = 6\n",
        "eol = 7\n",
        "\n",
        "nat_emm = raw + manf + trans + eol \n",
        "\n"
      ]
    },
    {
      "cell_type": "markdown",
      "id": "b6d659ee-115e-43c3-81d4-56c4aaf92fb7",
      "metadata": {},
      "source": [
        "## References\n",
        "\n",
        "List any external references consulted, including classmates."
      ]
    }
  ],
  "metadata": {
    "kernel_info": {
      "name": "julia"
    },
    "kernelspec": {
      "display_name": "Julia 1.10.5",
      "language": "julia",
      "name": "julia-1.10"
    },
    "language_info": {
      "file_extension": ".jl",
      "mimetype": "application/julia",
      "name": "julia",
      "version": "1.10.5"
    }
  },
  "nbformat": 4,
  "nbformat_minor": 5
}
